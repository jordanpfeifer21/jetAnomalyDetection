{
 "cells": [
  {
   "cell_type": "code",
   "execution_count": null,
   "id": "d0759668",
   "metadata": {
    "vscode": {
     "languageId": "plaintext"
    }
   },
   "outputs": [],
   "source": [
    "# if you want a notebook, slack/email/text me!"
   ]
  }
 ],
 "metadata": {
  "language_info": {
   "name": "python"
  }
 },
 "nbformat": 4,
 "nbformat_minor": 5
}
