{
 "cells": [
  {
   "cell_type": "code",
   "execution_count": 1,
   "metadata": {},
   "outputs": [],
   "source": [
    "import torch\n",
    "from torch import nn\n",
    "import numpy as np\n",
    "from torch.utils.data import DataLoader\n",
    "# import seaborn as sns\n",
    "import matplotlib.pyplot as plt\n",
    "import numpy as np\n",
    "import torch\n",
    "from torch.utils.data import Dataset, random_split, DataLoader\n",
    "from torch import nn\n",
    "import pandas as pd"
   ]
  },
  {
   "cell_type": "code",
   "execution_count": 3,
   "metadata": {},
   "outputs": [
    {
     "ename": "ModuleNotFoundError",
     "evalue": "No module named 'constants'",
     "output_type": "error",
     "traceback": [
      "\u001b[0;31m---------------------------------------------------------------------------\u001b[0m",
      "\u001b[0;31mModuleNotFoundError\u001b[0m                       Traceback (most recent call last)",
      "Cell \u001b[0;32mIn[3], line 2\u001b[0m\n\u001b[1;32m      1\u001b[0m \u001b[38;5;28;01mfrom\u001b[39;00m \u001b[38;5;21;01mfast_histogram\u001b[39;00m \u001b[38;5;28;01mimport\u001b[39;00m histogram2d\n\u001b[0;32m----> 2\u001b[0m \u001b[38;5;28;01mimport\u001b[39;00m \u001b[38;5;21;01mconstants\u001b[39;00m \u001b[38;5;28;01mas\u001b[39;00m \u001b[38;5;21;01mc\u001b[39;00m\n",
      "\u001b[0;31mModuleNotFoundError\u001b[0m: No module named 'constants'"
     ]
    }
   ],
   "source": [
    "from fast_histogram import histogram2d\n",
    "import constants as c\n"
   ]
  },
  {
   "cell_type": "code",
   "execution_count": 4,
   "metadata": {},
   "outputs": [],
   "source": [
    "background_file = '/isilon/data/users/jpfeife2/AutoEncoder-Anomaly-Detection/processed_data/background_small.pkl'\n",
    "signal_file = '/isilon/data/users/jpfeife2/AutoEncoder-Anomaly-Detection/processed_data/signal_small.pkl'\n",
    "background = pd.read_pickle(background_file)\n",
    "signal = pd.read_pickle(signal_file)"
   ]
  },
  {
   "cell_type": "code",
   "execution_count": 5,
   "metadata": {},
   "outputs": [],
   "source": [
    "ETA_MIN = -0.8 \n",
    "ETA_MAX = 0.8 \n",
    "PHI_MIN = -0.8 \n",
    "PHI_MAX = 0.8 \n",
    "INCR = 0.05 \n",
    "BINS = int(abs(ETA_MIN - ETA_MAX)/INCR)"
   ]
  },
  {
   "cell_type": "code",
   "execution_count": 6,
   "metadata": {},
   "outputs": [],
   "source": [
    "# def load_1D(data): \n",
    "#     reshaped_data = []\n",
    "#     eta = data['eta']\n",
    "#     phi = data['phi']\n",
    "#     pt = data['pt']\n",
    "#     reshaped_data.append([np.column_stack([eta[i], phi[i], pt[i]]) for i in range(data.shape[0])])\n",
    "#     return reshaped_data\n"
   ]
  },
  {
   "cell_type": "code",
   "execution_count": 7,
   "metadata": {},
   "outputs": [],
   "source": [
    "def make_histogram(eta, phi, cc):\n",
    "    hist_range = [[ETA_MIN, ETA_MAX], [PHI_MIN, PHI_MAX]]\n",
    "    eta_bins = np.arange(ETA_MIN, ETA_MAX, INCR)\n",
    "    phi_bins = np.arange(PHI_MIN, PHI_MAX, INCR)\n",
    "    image_shape = (eta_bins.shape[0], phi_bins.shape[0])\n",
    "\n",
    "    return histogram2d(phi, eta, range=hist_range, bins=image_shape, weights=cc)\n",
    "\n",
    "def format_2D(data):\n",
    "    print(\"==============================\")\n",
    "    print(data[\"eta\"][0])\n",
    "\n",
    "    hist = [make_histogram(data['eta'][i], data['phi'][i],data['pt'][i]) for i in range(data.shape[0])]\n",
    "    hist = np.reshape(hist, (-1, BINS, BINS, 1))\n",
    "    return hist"
   ]
  },
  {
   "cell_type": "code",
   "execution_count": 8,
   "metadata": {},
   "outputs": [
    {
     "name": "stdout",
     "output_type": "stream",
     "text": [
      "==============================\n",
      "[-0.020996094, 0.010498047, 0.017578125, -0.0014648438, -0.015136719, -0.0026855469, -0.05883789, -0.023925781, 0.088134766, -0.16625977, 0.052978516, 0.08154297, -0.38916016, -0.36791992, 0.60253906, -0.2602539, -0.012451172, 0.18432617, -0.41796875, 0.53222656]\n",
      "==============================\n",
      "[0.70947266, -0.14517212, 0.25732422, 0.061584473, 0.1282959, 0.07342529, 0.04498291, 0.14941406, -0.06048584, 0.11010742, 0.13812256, 0.46984863, 0.09643555, 0.009033203, 0.08648682, 0.1251831, 0.04724121, 0.13372803, -0.030212402, 0.030212402, 0.20800781, 0.076049805, -0.42064667, -0.32427216, -0.13684082, -0.39214325, -0.27903748, -0.1723938, -0.26020813, -0.230896, -0.30512238, -0.19262695, -0.236969, 0.08886719, -0.18041992, -0.38862228, 0.14367676, 0.16320801, -0.28071594, -0.47192383, -0.11682129, -0.1777649, -0.17797852, -0.08581543, -0.06829834, -0.1411438, 0.057800293, 0.08081055, -0.26927185, -0.17181396, -0.39985657, -0.38277435, -0.40296936]\n"
     ]
    }
   ],
   "source": [
    "reshaped_data = format_2D(background)\n",
    "signal_data = format_2D(signal)\n",
    "# reshaped_data = torch.tensor(reshaped_data, dtype = float)"
   ]
  },
  {
   "cell_type": "code",
   "execution_count": 9,
   "metadata": {},
   "outputs": [
    {
     "name": "stdout",
     "output_type": "stream",
     "text": [
      "(32, 32, 1)\n"
     ]
    }
   ],
   "source": [
    "print(reshaped_data[0].shape)"
   ]
  },
  {
   "cell_type": "code",
   "execution_count": 34,
   "metadata": {},
   "outputs": [],
   "source": [
    "class TransformerAnomalyDetection(nn.Module):\n",
    "    # Autoencoder with attention.\n",
    "    def __init__(self, input_size=(32, 32, 1), latent_dim=32*32*1, num_heads=4, num_layers=6):\n",
    "        super().__init__()\n",
    "        self.input_size = input_size\n",
    "        self.latent_dim = latent_dim\n",
    "        self.num_heads = num_heads\n",
    "        self.num_layers = num_layers\n",
    "        # Encoder layers\n",
    "        encoder_layers = nn.TransformerEncoderLayer(d_model=np.prod(input_size), nhead=num_heads, dropout=0.2, activation='relu', dim_feedforward=36)\n",
    "        self.transformer_encoder = nn.TransformerEncoder(encoder_layers, num_layers=num_layers)\n",
    "        # Decoder layers\n",
    "        decoder_layers = nn.TransformerDecoderLayer(d_model=np.prod(input_size), nhead=num_heads, dropout=0.2, activation='relu', dim_feedforward=36)\n",
    "        self.transformer_decoder = nn.TransformerDecoder(decoder_layers, num_layers=num_layers)\n",
    "        # Linear layers for encoding and decoding\n",
    "        self.encoder_linear = nn.Linear(np.prod(input_size), latent_dim)\n",
    "        self.decoder_linear = nn.Linear(latent_dim, np.prod(input_size))\n",
    "\n",
    "    def forward(self, x):\n",
    "        # Flatten input\n",
    "        x = x.float()\n",
    "        x_flat = x.view(x.size(0), -1)  # Reshape to (batch_size, input_size)     \n",
    "        # x_flat = [i.float() for i in x_flat]  \n",
    "        # Encode\n",
    "        # print(x_flat.shape)\n",
    "        encoded = self.encoder_linear(x_flat)  # (batch_size, latent_dim)\n",
    "        encoded = encoded.unsqueeze(1)  # Add sequence length dimension (batch_size, seq_len=1, latent_dim)  \n",
    "        # Transformer Encoder\n",
    "        encoded = self.transformer_encoder(encoded)  # (batch_size, seq_len=1, latent_dim)\n",
    "        # Decode\n",
    "        decoded = self.decoder_linear(encoded.squeeze(1))  # (batch_size, prod(input_size))      \n",
    "        return decoded"
   ]
  },
  {
   "cell_type": "code",
   "execution_count": 35,
   "metadata": {},
   "outputs": [],
   "source": [
    "def train_loop(dataloader, model, loss_func, optimizer, batch_size):\n",
    "    # Train a model.\n",
    "    device = torch.device(\"cuda\" if torch.cuda.is_available() else \"cpu\")\n",
    "    model.to(device)\n",
    "    model.train()\n",
    "    train_loss = 0\n",
    "    size = len(dataloader.dataset)\n",
    "    num_batches = len(dataloader)\n",
    "    \n",
    "    for batch, X in enumerate(dataloader): # for batch, (X,y) in ... for labelled data.\n",
    "        X = X.to(device)\n",
    "        pred = model(X)\n",
    "        loss = loss_func(pred, X.float()) # X -> y\n",
    "        \n",
    "        # Backpropogation.\n",
    "        loss.backward()\n",
    "        optimizer.step()\n",
    "        optimizer.zero_grad()\n",
    "\n",
    "        train_loss += loss.item()\n",
    "\n",
    "        if batch % 100 == 0:\n",
    "            current = batch * batch_size + len(X)\n",
    "            print(f\"loss: {loss.item():>7f}  [{current:>5d}/{size:>5d}]\")\n",
    "        \n",
    "    train_loss /= num_batches\n",
    "    print(f\"Average train loss over the number of batches: {train_loss:>8f} \\n\")\n",
    "        \n",
    "    return train_loss\n",
    "\n",
    "    \n",
    "def test_loop(dataloader, model, loss_func):\n",
    "    # Test a model.\n",
    "    device = torch.device(\"cuda\" if torch.cuda.is_available() else \"cpu\")\n",
    "    model.to(device)\n",
    "    model.eval()\n",
    "    test_loss = 0\n",
    "    size = len(dataloader.dataset)\n",
    "    num_batches = len(dataloader)\n",
    "\n",
    "    with torch.no_grad(): # No gradient calculated.\n",
    "        for X in dataloader: # for (X,y) in ... for labelled data.\n",
    "            X = X.to(device)\n",
    "            pred = model(X)\n",
    "            test_loss += loss_func(pred, X).item() # X -> y\n",
    "            # correct += (pred.argmax(1) == X).type(torch.float).sum().item() # Does not make sense with autoencoders.\n",
    "\n",
    "    test_loss /= num_batches\n",
    "    print(f\"Average test loss over the number of batches: {test_loss:>8f} \\n\")\n",
    "    \n",
    "    return test_loss\n",
    "\n",
    "def train_model(dataloader_train, dataloader_test, model, loss_func, optimizer, epochs, \n",
    "                scheduler=None, batch_size=32, graph_path=None):\n",
    "    # Training and testing (or validation).\n",
    "    train_loss = np.zeros(epochs)\n",
    "    test_loss = np.zeros(epochs)\n",
    "    \n",
    "    for t in np.arange(0, epochs, step=1):\n",
    "        print(f\"Epoch {t+1}\\n-------------------------------\")\n",
    "        train_loss[t] = train_loop(dataloader_train, model, loss_func, optimizer, batch_size=batch_size)\n",
    "        test_loss[t] = test_loop(dataloader_test, model, loss_func)\n",
    "        print(\"Done!\")\n",
    "\n",
    "        if scheduler:\n",
    "            scheduler.step() # Update learning rate.\n",
    "            current_lr = scheduler.get_last_lr() # Print the current learning rate\n",
    "            print(f\"Current learning rate: {current_lr[0]}\")\n",
    "\n",
    "    visualization(train_loss, test_loss, graph_path) # Plot and save graphs.\n",
    "\n",
    "    return train_loss, test_loss\n",
    "\n",
    "def evaluate_model(dataloader_test, model, loss_func):\n",
    "    # Model evaluation.\n",
    "    device = torch.device(\"cuda\" if torch.cuda.is_available() else \"cpu\")\n",
    "    model.to(device)\n",
    "    model.eval()\n",
    "    test_loss = np.zeros(len(dataloader_test))\n",
    "    with torch.no_grad():\n",
    "        for ind, X in enumerate(dataloader_test):\n",
    "            X = X.float() \n",
    "            X = X.to(device)\n",
    "            pred = model(X)\n",
    "            test_loss[ind] = loss_func(pred, X).item()\n",
    "    return test_loss\n",
    "            \n",
    "def visualization(train_loss, test_loss, graph_path):\n",
    "    # Plot two types of graphs - with background (for report) and without (for slides).\n",
    "    graph_text_face = [('white', 'none'), ('black', 'white')]\n",
    "    for (text_color, face_color) in graph_text_face:\n",
    "        fig, ax = plt.subplots(figsize=(10, 4), facecolor=face_color)\n",
    "        ax.plot(train_loss, label=\"Training loss\")\n",
    "        ax.plot(test_loss, label=\"Validation loss\")\n",
    "        ax.set_title(\"Loss Progression\", color=text_color)\n",
    "        ax.set_xlabel(\"Epoch number\", color=text_color)\n",
    "        ax.set_ylabel(\"Reconstruction loss\", color=text_color)\n",
    "        ax.legend(facecolor=face_color)\n",
    "        ax.tick_params(axis='both', colors=text_color)\n",
    "        plt.tight_layout() # Remove empty edges.\n",
    "        if graph_path:\n",
    "            plt.savefig(graph_path.replace('.png', f'_{face_color}.png'), dpi=600, bbox_inches='tight')\n",
    "        plt.show()\n",
    "\n",
    "def exp_scheduler(optimizer, gamma):\n",
    "    # Scheduled learning rate: lr_0 * exp(-gamma * iter_num).\n",
    "    return torch.optim.lr_scheduler.ExponentialLR(optimizer, gamma=gamma)"
   ]
  },
  {
   "cell_type": "code",
   "execution_count": 36,
   "metadata": {},
   "outputs": [],
   "source": [
    "X_train = X_test = reshaped_data\n",
    "# X_train = reshaped_data[:15]\n",
    "# X_test = reshaped_data[16:]\n",
    "X_valid = signal_data"
   ]
  },
  {
   "cell_type": "code",
   "execution_count": 37,
   "metadata": {},
   "outputs": [
    {
     "name": "stdout",
     "output_type": "stream",
     "text": [
      "(20, 32, 32, 1)\n"
     ]
    }
   ],
   "source": [
    "print(X_train.shape)"
   ]
  },
  {
   "cell_type": "code",
   "execution_count": 43,
   "metadata": {},
   "outputs": [],
   "source": [
    "\n",
    "# Hyperparameters.\n",
    "learning_rate = 1e-5\n",
    "weight_decay = 1e-3 # For l2 regularization.\n",
    "batch_size = 1\n",
    "epochs = 10"
   ]
  },
  {
   "cell_type": "code",
   "execution_count": 44,
   "metadata": {},
   "outputs": [],
   "source": [
    "torch.manual_seed(42)\n",
    "X_train_dataloader = DataLoader(X_train, batch_size=batch_size, shuffle=True)\n",
    "X_test_dataloader = DataLoader(X_test, batch_size=batch_size, shuffle=True)\n",
    "X_valid_dataloader = DataLoader(X_valid, batch_size=batch_size, shuffle=True)"
   ]
  },
  {
   "cell_type": "code",
   "execution_count": 45,
   "metadata": {},
   "outputs": [
    {
     "name": "stdout",
     "output_type": "stream",
     "text": [
      "<torch.utils.data.dataloader.DataLoader object at 0x7f194cfd9940>\n"
     ]
    }
   ],
   "source": [
    "print(X_train_dataloader)"
   ]
  },
  {
   "cell_type": "code",
   "execution_count": 46,
   "metadata": {},
   "outputs": [
    {
     "name": "stdout",
     "output_type": "stream",
     "text": [
      "TransformerAnomalyDetection(\n",
      "  (transformer_encoder): TransformerEncoder(\n",
      "    (layers): ModuleList(\n",
      "      (0-5): 6 x TransformerEncoderLayer(\n",
      "        (self_attn): MultiheadAttention(\n",
      "          (out_proj): NonDynamicallyQuantizableLinear(in_features=1024, out_features=1024, bias=True)\n",
      "        )\n",
      "        (linear1): Linear(in_features=1024, out_features=36, bias=True)\n",
      "        (dropout): Dropout(p=0.2, inplace=False)\n",
      "        (linear2): Linear(in_features=36, out_features=1024, bias=True)\n",
      "        (norm1): LayerNorm((1024,), eps=1e-05, elementwise_affine=True)\n",
      "        (norm2): LayerNorm((1024,), eps=1e-05, elementwise_affine=True)\n",
      "        (dropout1): Dropout(p=0.2, inplace=False)\n",
      "        (dropout2): Dropout(p=0.2, inplace=False)\n",
      "      )\n",
      "    )\n",
      "  )\n",
      "  (transformer_decoder): TransformerDecoder(\n",
      "    (layers): ModuleList(\n",
      "      (0-5): 6 x TransformerDecoderLayer(\n",
      "        (self_attn): MultiheadAttention(\n",
      "          (out_proj): NonDynamicallyQuantizableLinear(in_features=1024, out_features=1024, bias=True)\n",
      "        )\n",
      "        (multihead_attn): MultiheadAttention(\n",
      "          (out_proj): NonDynamicallyQuantizableLinear(in_features=1024, out_features=1024, bias=True)\n",
      "        )\n",
      "        (linear1): Linear(in_features=1024, out_features=36, bias=True)\n",
      "        (dropout): Dropout(p=0.2, inplace=False)\n",
      "        (linear2): Linear(in_features=36, out_features=1024, bias=True)\n",
      "        (norm1): LayerNorm((1024,), eps=1e-05, elementwise_affine=True)\n",
      "        (norm2): LayerNorm((1024,), eps=1e-05, elementwise_affine=True)\n",
      "        (norm3): LayerNorm((1024,), eps=1e-05, elementwise_affine=True)\n",
      "        (dropout1): Dropout(p=0.2, inplace=False)\n",
      "        (dropout2): Dropout(p=0.2, inplace=False)\n",
      "        (dropout3): Dropout(p=0.2, inplace=False)\n",
      "      )\n",
      "    )\n",
      "  )\n",
      "  (encoder_linear): Linear(in_features=1024, out_features=1024, bias=True)\n",
      "  (decoder_linear): Linear(in_features=1024, out_features=1024, bias=True)\n",
      ")\n"
     ]
    }
   ],
   "source": [
    "# Choose model, loss function, optimizer, and learning rate scheduler.\n",
    "model = TransformerAnomalyDetection()\n",
    "print(model)\n",
    "loss_func = nn.MSELoss()\n",
    "optimizer = torch.optim.AdamW(model.parameters(), lr=learning_rate, weight_decay=weight_decay)\n",
    "# scheduler = exp_scheduler(optimizer=optimizer, gamma=0.95) # If we use a scheduled learning rate."
   ]
  },
  {
   "cell_type": "code",
   "execution_count": 47,
   "metadata": {},
   "outputs": [
    {
     "name": "stdout",
     "output_type": "stream",
     "text": [
      "Epoch 1\n",
      "-------------------------------\n"
     ]
    },
    {
     "name": "stderr",
     "output_type": "stream",
     "text": [
      "/isilon/data/users/jpfeife2/miniforge3/envs/anomaly/lib/python3.9/site-packages/torch/nn/modules/loss.py:535: UserWarning: Using a target size (torch.Size([1, 32, 32, 1])) that is different to the input size (torch.Size([1, 1024])). This will likely lead to incorrect results due to broadcasting. Please ensure they have the same size.\n",
      "  return F.mse_loss(input, target, reduction=self.reduction)\n"
     ]
    },
    {
     "name": "stdout",
     "output_type": "stream",
     "text": [
      "loss: 0.330490  [    1/   20]\n",
      "Average train loss over the number of batches: 0.245996 \n",
      "\n",
      "Average test loss over the number of batches: 0.152306 \n",
      "\n",
      "Done!\n",
      "Epoch 2\n",
      "-------------------------------\n",
      "loss: 0.194094  [    1/   20]\n",
      "Average train loss over the number of batches: 0.147864 \n",
      "\n",
      "Average test loss over the number of batches: 0.079664 \n",
      "\n",
      "Done!\n",
      "Epoch 3\n",
      "-------------------------------\n",
      "loss: 0.122791  [    1/   20]\n",
      "Average train loss over the number of batches: 0.098410 \n",
      "\n",
      "Average test loss over the number of batches: 0.042045 \n",
      "\n",
      "Done!\n",
      "Epoch 4\n",
      "-------------------------------\n",
      "loss: 0.114860  [    1/   20]\n",
      "Average train loss over the number of batches: 0.075907 \n",
      "\n",
      "Average test loss over the number of batches: 0.024394 \n",
      "\n",
      "Done!\n",
      "Epoch 5\n",
      "-------------------------------\n",
      "loss: 0.063467  [    1/   20]\n",
      "Average train loss over the number of batches: 0.068908 \n",
      "\n",
      "Average test loss over the number of batches: 0.016294 \n",
      "\n",
      "Done!\n",
      "Epoch 6\n",
      "-------------------------------\n",
      "loss: 0.049318  [    1/   20]\n",
      "Average train loss over the number of batches: 0.054205 \n",
      "\n",
      "Average test loss over the number of batches: 0.011553 \n",
      "\n",
      "Done!\n",
      "Epoch 7\n",
      "-------------------------------\n",
      "loss: 0.054671  [    1/   20]\n",
      "Average train loss over the number of batches: 0.052825 \n",
      "\n",
      "Average test loss over the number of batches: 0.009218 \n",
      "\n",
      "Done!\n",
      "Epoch 8\n",
      "-------------------------------\n",
      "loss: 0.057169  [    1/   20]\n",
      "Average train loss over the number of batches: 0.046909 \n",
      "\n",
      "Average test loss over the number of batches: 0.008363 \n",
      "\n",
      "Done!\n",
      "Epoch 9\n",
      "-------------------------------\n",
      "loss: 0.056020  [    1/   20]\n",
      "Average train loss over the number of batches: 0.046617 \n",
      "\n",
      "Average test loss over the number of batches: 0.006723 \n",
      "\n",
      "Done!\n",
      "Epoch 10\n",
      "-------------------------------\n",
      "loss: 0.038593  [    1/   20]\n",
      "Average train loss over the number of batches: 0.043635 \n",
      "\n",
      "Average test loss over the number of batches: 0.005901 \n",
      "\n",
      "Done!\n"
     ]
    },
    {
     "data": {
      "image/png": "[encoded data removed]",
      "text/plain": [
       "<Figure size 1000x400 with 1 Axes>"
      ]
     },
     "metadata": {
      "needs_background": "dark"
     },
     "output_type": "display_data"
    },
    {
     "data": {
      "image/png": "[encoded data removed]",
      "text/plain": [
       "<Figure size 1000x400 with 1 Axes>"
      ]
     },
     "metadata": {},
     "output_type": "display_data"
    }
   ],
   "source": [
    "# Train the model on the background data, plot, and save it.\n",
    "torch.set_num_threads(2)\n",
    "train_loss, valid_loss = train_model(\n",
    "    X_train_dataloader, \n",
    "    X_valid_dataloader, \n",
    "    model, \n",
    "    loss_func, \n",
    "    optimizer, \n",
    "    epochs, \n",
    "    scheduler=None,\n",
    "    batch_size=batch_size, \n",
    "    graph_path=''\n",
    ")"
   ]
  },
  {
   "cell_type": "code",
   "execution_count": null,
   "metadata": {},
   "outputs": [],
   "source": []
  }
 ],
 "metadata": {
  "kernelspec": {
   "display_name": "anomaly",
   "language": "python",
   "name": "python3"
  },
  "language_info": {
   "codemirror_mode": {
    "name": "ipython",
    "version": 3
   },
   "file_extension": ".py",
   "mimetype": "text/x-python",
   "name": "python",
   "nbconvert_exporter": "python",
   "pygments_lexer": "ipython3",
   "version": "3.9.18"
  }
 },
 "nbformat": 4,
 "nbformat_minor": 2
}
